this file contains the code for fcn8
